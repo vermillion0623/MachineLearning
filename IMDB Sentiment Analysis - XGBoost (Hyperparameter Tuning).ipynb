{
 "cells": [
  {
   "cell_type": "markdown",
   "metadata": {},
   "source": [
    "# Sentiment Analysis\n",
    "\n",
    "## Using XGBoost in SageMaker\n",
    "\n",
    "_Deep Learning Nanodegree Program | Deployment_\n",
    "\n",
    "---\n",
    "\n",
    "In this example of using Amazon's SageMaker service we will construct a random tree model to predict the sentiment of a movie review. You may have seen a version of this example in a pervious lesson although it would have been done using the sklearn package. Instead, we will be using the XGBoost package as it is provided to us by Amazon.\n",
    "\n",
    "## Instructions\n",
    "\n",
    "Some template code has already been provided for you, and you will need to implement additional functionality to successfully complete this notebook. You will not need to modify the included code beyond what is requested. Sections that begin with '**TODO**' in the header indicate that you need to complete or implement some portion within them. Instructions will be provided for each section and the specifics of the implementation are marked in the code block with a `# TODO: ...` comment. Please be sure to read the instructions carefully!\n",
    "\n",
    "In addition to implementing code, there will be questions for you to answer which relate to the task and your implementation. Each section where you will answer a question is preceded by a '**Question:**' header. Carefully read each question and provide your answer below the '**Answer:**' header by editing the Markdown cell.\n",
    "\n",
    "> **Note**: Code and Markdown cells can be executed using the **Shift+Enter** keyboard shortcut. In addition, a cell can be edited by typically clicking it (double-click for Markdown cells) or by pressing **Enter** while it is highlighted."
   ]
  },
  {
   "cell_type": "code",
   "execution_count": 3,
   "metadata": {},
   "outputs": [
    {
     "name": "stdout",
     "output_type": "stream",
     "text": [
      "Requirement already satisfied: sagemaker==1.72.0 in /home/ec2-user/anaconda3/envs/python3/lib/python3.6/site-packages (1.72.0)\n",
      "Requirement already satisfied: scipy>=0.19.0 in /home/ec2-user/anaconda3/envs/python3/lib/python3.6/site-packages (from sagemaker==1.72.0) (1.5.3)\n",
      "Requirement already satisfied: numpy>=1.9.0 in /home/ec2-user/anaconda3/envs/python3/lib/python3.6/site-packages (from sagemaker==1.72.0) (1.19.5)\n",
      "Requirement already satisfied: boto3>=1.14.12 in /home/ec2-user/anaconda3/envs/python3/lib/python3.6/site-packages (from sagemaker==1.72.0) (1.17.83)\n",
      "Requirement already satisfied: protobuf>=3.1 in /home/ec2-user/anaconda3/envs/python3/lib/python3.6/site-packages (from sagemaker==1.72.0) (3.15.2)\n",
      "Requirement already satisfied: packaging>=20.0 in /home/ec2-user/anaconda3/envs/python3/lib/python3.6/site-packages (from sagemaker==1.72.0) (20.9)\n",
      "Requirement already satisfied: importlib-metadata>=1.4.0 in /home/ec2-user/anaconda3/envs/python3/lib/python3.6/site-packages (from sagemaker==1.72.0) (3.7.0)\n",
      "Requirement already satisfied: protobuf3-to-dict>=0.1.5 in /home/ec2-user/anaconda3/envs/python3/lib/python3.6/site-packages (from sagemaker==1.72.0) (0.1.5)\n",
      "Requirement already satisfied: smdebug-rulesconfig==0.1.4 in /home/ec2-user/anaconda3/envs/python3/lib/python3.6/site-packages (from sagemaker==1.72.0) (0.1.4)\n",
      "Requirement already satisfied: botocore<1.21.0,>=1.20.83 in /home/ec2-user/anaconda3/envs/python3/lib/python3.6/site-packages (from boto3>=1.14.12->sagemaker==1.72.0) (1.20.83)\n",
      "Requirement already satisfied: jmespath<1.0.0,>=0.7.1 in /home/ec2-user/anaconda3/envs/python3/lib/python3.6/site-packages (from boto3>=1.14.12->sagemaker==1.72.0) (0.10.0)\n",
      "Requirement already satisfied: s3transfer<0.5.0,>=0.4.0 in /home/ec2-user/anaconda3/envs/python3/lib/python3.6/site-packages (from boto3>=1.14.12->sagemaker==1.72.0) (0.4.2)\n",
      "Requirement already satisfied: urllib3<1.27,>=1.25.4 in /home/ec2-user/anaconda3/envs/python3/lib/python3.6/site-packages (from botocore<1.21.0,>=1.20.83->boto3>=1.14.12->sagemaker==1.72.0) (1.26.5)\n",
      "Requirement already satisfied: python-dateutil<3.0.0,>=2.1 in /home/ec2-user/anaconda3/envs/python3/lib/python3.6/site-packages (from botocore<1.21.0,>=1.20.83->boto3>=1.14.12->sagemaker==1.72.0) (2.8.1)\n",
      "Requirement already satisfied: typing-extensions>=3.6.4 in /home/ec2-user/anaconda3/envs/python3/lib/python3.6/site-packages (from importlib-metadata>=1.4.0->sagemaker==1.72.0) (3.7.4.3)\n",
      "Requirement already satisfied: zipp>=0.5 in /home/ec2-user/anaconda3/envs/python3/lib/python3.6/site-packages (from importlib-metadata>=1.4.0->sagemaker==1.72.0) (3.4.0)\n",
      "Requirement already satisfied: pyparsing>=2.0.2 in /home/ec2-user/anaconda3/envs/python3/lib/python3.6/site-packages (from packaging>=20.0->sagemaker==1.72.0) (2.4.7)\n",
      "Requirement already satisfied: six>=1.9 in /home/ec2-user/anaconda3/envs/python3/lib/python3.6/site-packages (from protobuf>=3.1->sagemaker==1.72.0) (1.15.0)\n"
     ]
    }
   ],
   "source": [
    "# Make sure that we use SageMaker 1.x\n",
    "!pip install sagemaker==1.72.0"
   ]
  },
  {
   "cell_type": "markdown",
   "metadata": {},
   "source": [
    "## Step 1: Downloading the data\n",
    "\n",
    "The dataset we are going to use is very popular among researchers in Natural Language Processing, usually referred to as the [IMDb dataset](http://ai.stanford.edu/~amaas/data/sentiment/). It consists of movie reviews from the website [imdb.com](http://www.imdb.com/), each labeled as either '**pos**itive', if the reviewer enjoyed the film, or '**neg**ative' otherwise.\n",
    "\n",
    "> Maas, Andrew L., et al. [Learning Word Vectors for Sentiment Analysis](http://ai.stanford.edu/~amaas/data/sentiment/). In _Proceedings of the 49th Annual Meeting of the Association for Computational Linguistics: Human Language Technologies_. Association for Computational Linguistics, 2011.\n",
    "\n",
    "We begin by using some Jupyter Notebook magic to download and extract the dataset."
   ]
  },
  {
   "cell_type": "code",
   "execution_count": 4,
   "metadata": {},
   "outputs": [
    {
     "name": "stdout",
     "output_type": "stream",
     "text": [
      "mkdir: cannot create directory ‘../data’: File exists\n",
      "--2021-06-09 13:22:49--  http://ai.stanford.edu/~amaas/data/sentiment/aclImdb_v1.tar.gz\n",
      "Resolving ai.stanford.edu (ai.stanford.edu)... 171.64.68.10\n",
      "Connecting to ai.stanford.edu (ai.stanford.edu)|171.64.68.10|:80... connected.\n",
      "HTTP request sent, awaiting response... 200 OK\n",
      "Length: 84125825 (80M) [application/x-gzip]\n",
      "Saving to: ‘../data/aclImdb_v1.tar.gz’\n",
      "\n",
      "../data/aclImdb_v1. 100%[===================>]  80.23M  8.80MB/s    in 11s     \n",
      "\n",
      "2021-06-09 13:23:00 (7.22 MB/s) - ‘../data/aclImdb_v1.tar.gz’ saved [84125825/84125825]\n",
      "\n"
     ]
    }
   ],
   "source": [
    "%mkdir ../data\n",
    "!wget -O ../data/aclImdb_v1.tar.gz http://ai.stanford.edu/~amaas/data/sentiment/aclImdb_v1.tar.gz\n",
    "!tar -zxf ../data/aclImdb_v1.tar.gz -C ../data"
   ]
  },
  {
   "cell_type": "markdown",
   "metadata": {},
   "source": [
    "## Step 2: Preparing the data\n",
    "\n",
    "The data we have downloaded is split into various files, each of which contains a single review. It will be much easier going forward if we combine these individual files into two large files, one for training and one for testing."
   ]
  },
  {
   "cell_type": "code",
   "execution_count": 5,
   "metadata": {},
   "outputs": [],
   "source": [
    "import os\n",
    "import glob\n",
    "\n",
    "def read_imdb_data(data_dir='../data/aclImdb'):\n",
    "    data = {}\n",
    "    labels = {}\n",
    "    \n",
    "    for data_type in ['train', 'test']:\n",
    "        data[data_type] = {}\n",
    "        labels[data_type] = {}\n",
    "        \n",
    "        for sentiment in ['pos', 'neg']:\n",
    "            data[data_type][sentiment] = []\n",
    "            labels[data_type][sentiment] = []\n",
    "            \n",
    "            path = os.path.join(data_dir, data_type, sentiment, '*.txt')\n",
    "            files = glob.glob(path)\n",
    "            \n",
    "            for f in files:\n",
    "                with open(f) as review:\n",
    "                    data[data_type][sentiment].append(review.read())\n",
    "                    # Here we represent a positive review by '1' and a negative review by '0'\n",
    "                    labels[data_type][sentiment].append(1 if sentiment == 'pos' else 0)\n",
    "                    \n",
    "            assert len(data[data_type][sentiment]) == len(labels[data_type][sentiment]), \\\n",
    "                    \"{}/{} data size does not match labels size\".format(data_type, sentiment)\n",
    "                \n",
    "    return data, labels"
   ]
  },
  {
   "cell_type": "code",
   "execution_count": 6,
   "metadata": {},
   "outputs": [
    {
     "name": "stdout",
     "output_type": "stream",
     "text": [
      "IMDB reviews: train = 12500 pos / 12500 neg, test = 12500 pos / 12500 neg\n"
     ]
    }
   ],
   "source": [
    "data, labels = read_imdb_data()\n",
    "print(\"IMDB reviews: train = {} pos / {} neg, test = {} pos / {} neg\".format(\n",
    "            len(data['train']['pos']), len(data['train']['neg']),\n",
    "            len(data['test']['pos']), len(data['test']['neg'])))"
   ]
  },
  {
   "cell_type": "code",
   "execution_count": 7,
   "metadata": {},
   "outputs": [],
   "source": [
    "from sklearn.utils import shuffle\n",
    "\n",
    "def prepare_imdb_data(data, labels):\n",
    "    \"\"\"Prepare training and test sets from IMDb movie reviews.\"\"\"\n",
    "    \n",
    "    #Combine positive and negative reviews and labels\n",
    "    data_train = data['train']['pos'] + data['train']['neg']\n",
    "    data_test = data['test']['pos'] + data['test']['neg']\n",
    "    labels_train = labels['train']['pos'] + labels['train']['neg']\n",
    "    labels_test = labels['test']['pos'] + labels['test']['neg']\n",
    "    \n",
    "    #Shuffle reviews and corresponding labels within training and test sets\n",
    "    data_train, labels_train = shuffle(data_train, labels_train)\n",
    "    data_test, labels_test = shuffle(data_test, labels_test)\n",
    "    \n",
    "    # Return a unified training data, test data, training labels, test labets\n",
    "    return data_train, data_test, labels_train, labels_test"
   ]
  },
  {
   "cell_type": "code",
   "execution_count": 8,
   "metadata": {},
   "outputs": [
    {
     "name": "stdout",
     "output_type": "stream",
     "text": [
      "IMDb reviews (combined): train = 25000, test = 25000\n"
     ]
    }
   ],
   "source": [
    "train_X, test_X, train_y, test_y = prepare_imdb_data(data, labels)\n",
    "print(\"IMDb reviews (combined): train = {}, test = {}\".format(len(train_X), len(test_X)))"
   ]
  },
  {
   "cell_type": "code",
   "execution_count": 9,
   "metadata": {},
   "outputs": [
    {
     "data": {
      "text/plain": [
       "\"After a lively if predictable opening bank-heist scene, 'Set It Off' plummets straight into the gutter and continues to sink. This is a movie that deals in nasty, threadbare stereotypes instead of characters, preposterous manipulation instead of coherent plotting, and a hideous cocktail of cloying sentimentality and gratuitous violence instead of thought, wit or feeling. In short, it's no different from 90% of Hollywood product. But it's the racial angle that makes 'Set It Off' a particularly saddening example of contemporary film-making. Posing as a celebration of 'sistahood', the film is actually a celebration of the most virulent forms of denigrating Afican-American 'gangsta' stereotype. The gimmick this time is that the gangstas are wearing drag. Not only does the film suggest that gangsterism is a default identity for all African Americans strapped for cash or feeling a bit hassled by the Man, it presents its sistas as shallow materialists who prize money and bling above all else. Worse, 'Set It Off' exploits the theme of racial discrimination and disadvantage simply as a device to prop up its feeble plot structure. Serious race-related social issues are wheeled on in contrived and opportunistic fashion in order to justify armed robbery, then they're ditched as soon as the film has to produce the inevitably conventional ending in which crime is punished, the LAPD turns out to be a bunch of caring, guilt-ridden liberals (tell that to Rodney King), and aspirational 'good' sista, Jada Pinkett Smith, follows the path of upward mobility out of the 'hood and into a world of middle-class self-indulgence opened up for her by her buppie bank-manager boyfriend. 'Set It Off' illustrates the abysmal state of the contemporary blaxploitation film, pandering to mindless gangsta stereotypes and pretending to celebrate life in the 'hood while all the time despising it. While the likes of 'Shaft' and 'Superfly' in the 1970s might have peddled stereotypes and rehashed well-worn plots, they had a freshness, an energy and an innocence that struck a chord with audiences of all races and still makes them fun to watch. 'Set It Off' wouldn't be worth getting angry over if wasn't a symptom of the tragic decline and ghettoisation of African-American film-making since the promising breakthrough days of the early 1990s.\""
      ]
     },
     "execution_count": 9,
     "metadata": {},
     "output_type": "execute_result"
    }
   ],
   "source": [
    "train_X[100]"
   ]
  },
  {
   "cell_type": "markdown",
   "metadata": {},
   "source": [
    "## Step 3: Processing the data\n",
    "\n",
    "Now that we have our training and testing datasets merged and ready to use, we need to start processing the raw data into something that will be useable by our machine learning algorithm. To begin with, we remove any html formatting that may appear in the reviews and perform some standard natural language processing in order to homogenize the data."
   ]
  },
  {
   "cell_type": "code",
   "execution_count": 10,
   "metadata": {},
   "outputs": [
    {
     "name": "stderr",
     "output_type": "stream",
     "text": [
      "[nltk_data] Downloading package stopwords to\n",
      "[nltk_data]     /home/ec2-user/nltk_data...\n",
      "[nltk_data]   Package stopwords is already up-to-date!\n"
     ]
    }
   ],
   "source": [
    "import nltk\n",
    "nltk.download(\"stopwords\")\n",
    "from nltk.corpus import stopwords\n",
    "from nltk.stem.porter import *\n",
    "stemmer = PorterStemmer()"
   ]
  },
  {
   "cell_type": "code",
   "execution_count": 11,
   "metadata": {},
   "outputs": [],
   "source": [
    "import re\n",
    "from bs4 import BeautifulSoup\n",
    "\n",
    "def review_to_words(review):\n",
    "    text = BeautifulSoup(review, \"html.parser\").get_text() # Remove HTML tags\n",
    "    text = re.sub(r\"[^a-zA-Z0-9]\", \" \", text.lower()) # Convert to lower case\n",
    "    words = text.split() # Split string into words\n",
    "    words = [w for w in words if w not in stopwords.words(\"english\")] # Remove stopwords\n",
    "    words = [PorterStemmer().stem(w) for w in words] # stem\n",
    "    \n",
    "    return words"
   ]
  },
  {
   "cell_type": "code",
   "execution_count": 12,
   "metadata": {},
   "outputs": [],
   "source": [
    "import pickle\n",
    "\n",
    "cache_dir = os.path.join(\"../cache\", \"sentiment_analysis\")  # where to store cache files\n",
    "os.makedirs(cache_dir, exist_ok=True)  # ensure cache directory exists\n",
    "\n",
    "def preprocess_data(data_train, data_test, labels_train, labels_test,\n",
    "                    cache_dir=cache_dir, cache_file=\"preprocessed_data.pkl\"):\n",
    "    \"\"\"Convert each review to words; read from cache if available.\"\"\"\n",
    "\n",
    "    # If cache_file is not None, try to read from it first\n",
    "    cache_data = None\n",
    "    if cache_file is not None:\n",
    "        try:\n",
    "            with open(os.path.join(cache_dir, cache_file), \"rb\") as f:\n",
    "                cache_data = pickle.load(f)\n",
    "            print(\"Read preprocessed data from cache file:\", cache_file)\n",
    "        except:\n",
    "            pass  # unable to read from cache, but that's okay\n",
    "    \n",
    "    # If cache is missing, then do the heavy lifting\n",
    "    if cache_data is None:\n",
    "        # Preprocess training and test data to obtain words for each review\n",
    "        #words_train = list(map(review_to_words, data_train))\n",
    "        #words_test = list(map(review_to_words, data_test))\n",
    "        words_train = [review_to_words(review) for review in data_train]\n",
    "        words_test = [review_to_words(review) for review in data_test]\n",
    "        \n",
    "        # Write to cache file for future runs\n",
    "        if cache_file is not None:\n",
    "            cache_data = dict(words_train=words_train, words_test=words_test,\n",
    "                              labels_train=labels_train, labels_test=labels_test)\n",
    "            with open(os.path.join(cache_dir, cache_file), \"wb\") as f:\n",
    "                pickle.dump(cache_data, f)\n",
    "            print(\"Wrote preprocessed data to cache file:\", cache_file)\n",
    "    else:\n",
    "        # Unpack data loaded from cache file\n",
    "        words_train, words_test, labels_train, labels_test = (cache_data['words_train'],\n",
    "                cache_data['words_test'], cache_data['labels_train'], cache_data['labels_test'])\n",
    "    \n",
    "    return words_train, words_test, labels_train, labels_test"
   ]
  },
  {
   "cell_type": "code",
   "execution_count": 13,
   "metadata": {},
   "outputs": [
    {
     "name": "stdout",
     "output_type": "stream",
     "text": [
      "Read preprocessed data from cache file: preprocessed_data.pkl\n"
     ]
    }
   ],
   "source": [
    "# Preprocess data\n",
    "train_X, test_X, train_y, test_y = preprocess_data(train_X, test_X, train_y, test_y)"
   ]
  },
  {
   "cell_type": "markdown",
   "metadata": {},
   "source": [
    "### Extract Bag-of-Words features\n",
    "\n",
    "For the model we will be implementing, rather than using the reviews directly, we are going to transform each review into a Bag-of-Words feature representation. Keep in mind that 'in the wild' we will only have access to the training set so our transformer can only use the training set to construct a representation."
   ]
  },
  {
   "cell_type": "code",
   "execution_count": 14,
   "metadata": {},
   "outputs": [],
   "source": [
    "import numpy as np\n",
    "from sklearn.feature_extraction.text import CountVectorizer\n",
    "import joblib\n",
    "# joblib is an enhanced version of pickle that is more efficient for storing NumPy arrays\n",
    "\n",
    "def extract_BoW_features(words_train, words_test, vocabulary_size=5000,\n",
    "                         cache_dir=cache_dir, cache_file=\"bow_features.pkl\"):\n",
    "    \"\"\"Extract Bag-of-Words for a given set of documents, already preprocessed into words.\"\"\"\n",
    "    \n",
    "    # If cache_file is not None, try to read from it first\n",
    "    cache_data = None\n",
    "    if cache_file is not None:\n",
    "        try:\n",
    "            with open(os.path.join(cache_dir, cache_file), \"rb\") as f:\n",
    "                cache_data = joblib.load(f)\n",
    "            print(\"Read features from cache file:\", cache_file)\n",
    "        except:\n",
    "            pass  # unable to read from cache, but that's okay\n",
    "    \n",
    "    # If cache is missing, then do the heavy lifting\n",
    "    if cache_data is None:\n",
    "        # Fit a vectorizer to training documents and use it to transform them\n",
    "        # NOTE: Training documents have already been preprocessed and tokenized into words;\n",
    "        #       pass in dummy functions to skip those steps, e.g. preprocessor=lambda x: x\n",
    "        vectorizer = CountVectorizer(max_features=vocabulary_size,\n",
    "                preprocessor=lambda x: x, tokenizer=lambda x: x)  # already preprocessed\n",
    "        features_train = vectorizer.fit_transform(words_train).toarray()\n",
    "\n",
    "        # Apply the same vectorizer to transform the test documents (ignore unknown words)\n",
    "        features_test = vectorizer.transform(words_test).toarray()\n",
    "        \n",
    "        # NOTE: Remember to convert the features using .toarray() for a compact representation\n",
    "        \n",
    "        # Write to cache file for future runs (store vocabulary as well)\n",
    "        if cache_file is not None:\n",
    "            vocabulary = vectorizer.vocabulary_\n",
    "            cache_data = dict(features_train=features_train, features_test=features_test,\n",
    "                             vocabulary=vocabulary)\n",
    "            with open(os.path.join(cache_dir, cache_file), \"wb\") as f:\n",
    "                joblib.dump(cache_data, f)\n",
    "            print(\"Wrote features to cache file:\", cache_file)\n",
    "    else:\n",
    "        # Unpack data loaded from cache file\n",
    "        features_train, features_test, vocabulary = (cache_data['features_train'],\n",
    "                cache_data['features_test'], cache_data['vocabulary'])\n",
    "    \n",
    "    # Return both the extracted features as well as the vocabulary\n",
    "    return features_train, features_test, vocabulary"
   ]
  },
  {
   "cell_type": "code",
   "execution_count": 15,
   "metadata": {},
   "outputs": [
    {
     "name": "stdout",
     "output_type": "stream",
     "text": [
      "Read features from cache file: bow_features.pkl\n"
     ]
    }
   ],
   "source": [
    "# Extract Bag of Words features for both training and test datasets\n",
    "train_X, test_X, vocabulary = extract_BoW_features(train_X, test_X)"
   ]
  },
  {
   "cell_type": "markdown",
   "metadata": {},
   "source": [
    "## Step 4: Classification using XGBoost\n",
    "\n",
    "Now that we have created the feature representation of our training (and testing) data, it is time to start setting up and using the XGBoost classifier provided by SageMaker.\n",
    "\n",
    "### Writing the dataset\n",
    "\n",
    "The XGBoost classifier that we will be using requires the dataset to be written to a file and stored using Amazon S3. To do this, we will start by splitting the training dataset into two parts, the data we will train the model with and a validation set. Then, we will write those datasets to a file and upload the files to S3. In addition, we will write the test set input to a file and upload the file to S3. This is so that we can use SageMakers Batch Transform functionality to test our model once we've fit it."
   ]
  },
  {
   "cell_type": "code",
   "execution_count": 16,
   "metadata": {},
   "outputs": [],
   "source": [
    "import pandas as pd\n",
    "\n",
    "val_X = pd.DataFrame(train_X[:10000])\n",
    "train_X = pd.DataFrame(train_X[10000:])\n",
    "\n",
    "val_y = pd.DataFrame(train_y[:10000])\n",
    "train_y = pd.DataFrame(train_y[10000:])\n",
    "\n",
    "test_y = pd.DataFrame(test_y)\n",
    "test_X = pd.DataFrame(test_X)"
   ]
  },
  {
   "cell_type": "markdown",
   "metadata": {},
   "source": [
    "The documentation for the XGBoost algorithm in SageMaker requires that the saved datasets should contain no headers or index and that for the training and validation data, the label should occur first for each sample.\n",
    "\n",
    "For more information about this and other algorithms, the SageMaker developer documentation can be found on __[Amazon's website.](https://docs.aws.amazon.com/sagemaker/latest/dg/)__"
   ]
  },
  {
   "cell_type": "code",
   "execution_count": 17,
   "metadata": {},
   "outputs": [],
   "source": [
    "# First we make sure that the local directory in which we'd like to store the training and validation csv files exists.\n",
    "data_dir = '../data/xgboost'\n",
    "if not os.path.exists(data_dir):\n",
    "    os.makedirs(data_dir)"
   ]
  },
  {
   "cell_type": "code",
   "execution_count": 18,
   "metadata": {},
   "outputs": [],
   "source": [
    "# First, save the test data to test.csv in the data_dir directory. Note that we do not save the associated ground truth\n",
    "# labels, instead we will use them later to compare with our model output.\n",
    "\n",
    "pd.concat([test_y, test_X], axis=1).to_csv(os.path.join(data_dir, 'test.csv'), header=False, index=False)\n",
    "pd.concat([val_y, val_X], axis=1).to_csv(os.path.join(data_dir, 'validation.csv'), header=False, index=False)\n",
    "pd.concat([train_y, train_X], axis=1).to_csv(os.path.join(data_dir, 'train.csv'), header=False, index=False)"
   ]
  },
  {
   "cell_type": "code",
   "execution_count": 19,
   "metadata": {},
   "outputs": [],
   "source": [
    "# To save a bit of memory we can set text_X, train_X, val_X, train_y and val_y to None.\n",
    "\n",
    "train_X = val_X = train_y = val_y = None"
   ]
  },
  {
   "cell_type": "markdown",
   "metadata": {},
   "source": [
    "### Uploading Training / Validation files to S3\n",
    "\n",
    "Amazon's S3 service allows us to store files that can be access by both the built-in training models such as the XGBoost model we will be using as well as custom models such as the one we will see a little later.\n",
    "\n",
    "For this, and most other tasks we will be doing using SageMaker, there are two methods we could use. The first is to use the low level functionality of SageMaker which requires knowing each of the objects involved in the SageMaker environment. The second is to use the high level functionality in which certain choices have been made on the user's behalf. The low level approach benefits from allowing the user a great deal of flexibility while the high level approach makes development much quicker. For our purposes we will opt to use the high level approach although using the low-level approach is certainly an option.\n",
    "\n",
    "Recall the method `upload_data()` which is a member of object representing our current SageMaker session. What this method does is upload the data to the default bucket (which is created if it does not exist) into the path described by the key_prefix variable. To see this for yourself, once you have uploaded the data files, go to the S3 console and look to see where the files have been uploaded.\n",
    "\n",
    "For additional resources, see the __[SageMaker API documentation](http://sagemaker.readthedocs.io/en/latest/)__ and in addition the __[SageMaker Developer Guide.](https://docs.aws.amazon.com/sagemaker/latest/dg/)__"
   ]
  },
  {
   "cell_type": "code",
   "execution_count": 20,
   "metadata": {},
   "outputs": [],
   "source": [
    "import sagemaker\n",
    "\n",
    "session = sagemaker.Session() # Store the current SageMaker session\n",
    "\n",
    "# S3 prefix (which folder will we use)\n",
    "prefix = 'sentiment-xgboost'\n",
    "\n",
    "test_location = session.upload_data(os.path.join(data_dir, 'test.csv'), key_prefix=prefix)\n",
    "val_location = session.upload_data(os.path.join(data_dir, 'validation.csv'), key_prefix=prefix)\n",
    "train_location = session.upload_data(os.path.join(data_dir, 'train.csv'), key_prefix=prefix)"
   ]
  },
  {
   "cell_type": "markdown",
   "metadata": {},
   "source": [
    "### (TODO) Creating a hypertuned XGBoost model\n",
    "\n",
    "Now that the data has been uploaded it is time to create the XGBoost model. As in the Boston Housing notebook, the first step is to create an estimator object which will be used as the *base* of your hyperparameter tuning job."
   ]
  },
  {
   "cell_type": "code",
   "execution_count": 21,
   "metadata": {},
   "outputs": [],
   "source": [
    "from sagemaker import get_execution_role\n",
    "\n",
    "# Our current execution role is require when creating the model as the training\n",
    "# and inference code will need to access the model artifacts.\n",
    "role = get_execution_role()"
   ]
  },
  {
   "cell_type": "code",
   "execution_count": 22,
   "metadata": {},
   "outputs": [
    {
     "name": "stderr",
     "output_type": "stream",
     "text": [
      "'get_image_uri' method will be deprecated in favor of 'ImageURIProvider' class in SageMaker Python SDK v2.\n"
     ]
    }
   ],
   "source": [
    "# We need to retrieve the location of the container which is provided by Amazon for using XGBoost.\n",
    "# As a matter of convenience, the training and inference code both use the same container.\n",
    "from sagemaker.amazon.amazon_estimator import get_image_uri\n",
    "\n",
    "container = get_image_uri(session.boto_region_name, 'xgboost', '1.0-1')"
   ]
  },
  {
   "cell_type": "code",
   "execution_count": 23,
   "metadata": {},
   "outputs": [
    {
     "name": "stderr",
     "output_type": "stream",
     "text": [
      "Parameter image_name will be renamed to image_uri in SageMaker Python SDK v2.\n"
     ]
    }
   ],
   "source": [
    "# TODO: Create a SageMaker estimator using the container location determined in the previous cell.\n",
    "#       It is recommended that you use a single training instance of type ml.m4.xlarge. It is also\n",
    "#       recommended that you use 's3://{}/{}/output'.format(session.default_bucket(), prefix) as the\n",
    "#       output path.\n",
    "\n",
    "xgb = sagemaker.estimator.Estimator(container, # The name of the training container\n",
    "                                    role,      # The IAM role to use (our current role in this case)\n",
    "                                    train_instance_count=1, # The number of instances to use for training\n",
    "                                    train_instance_type='ml.m4.xlarge', # The type of instance ot use for training\n",
    "                                    output_path='s3://{}/{}/output'.format(session.default_bucket(), prefix),\n",
    "                                                                        # Where to save the output (the model artifacts)\n",
    "                                    sagemaker_session=session) # The current SageMaker session\n",
    "\n",
    "# TODO: Set the XGBoost hyperparameters in the xgb object. Don't forget that in this case we have a binary\n",
    "#       label so we should be using the 'binary:logistic' objective.\n",
    "\n",
    "xgb.set_hyperparameters(max_depth=5,\n",
    "                        eta=0.2,\n",
    "                        gamma=4,\n",
    "                        min_child_weight=6,\n",
    "                        subsample=0.8,\n",
    "                        objective='reg:linear',\n",
    "                        early_stopping_rounds=10,\n",
    "                        num_round=200)"
   ]
  },
  {
   "cell_type": "markdown",
   "metadata": {},
   "source": [
    "### (TODO) Create the hyperparameter tuner\n",
    "\n",
    "Now that the base estimator has been set up we need to construct a hyperparameter tuner object which we will use to request SageMaker construct a hyperparameter tuning job.\n",
    "\n",
    "**Note:** Training a single sentiment analysis XGBoost model takes longer than training a Boston Housing XGBoost model so if you don't want the hyperparameter tuning job to take too long, make sure to not set the total number of models (jobs) too high."
   ]
  },
  {
   "cell_type": "code",
   "execution_count": 24,
   "metadata": {},
   "outputs": [],
   "source": [
    "# First, make sure to import the relevant objects used to construct the tuner\n",
    "from sagemaker.tuner import IntegerParameter, ContinuousParameter, HyperparameterTuner\n",
    "\n",
    "# TODO: Create the hyperparameter tuner object\n",
    "\n",
    "xgb_hyperparameter_tuner = HyperparameterTuner(estimator = xgb, # The estimator object to use as the basis for the training jobs.\n",
    "                                               objective_metric_name = 'validation:rmse', # The metric used to compare trained models.\n",
    "                                               objective_type = 'Minimize', # Whether we wish to minimize or maximize the metric.\n",
    "                                               max_jobs = 20, # The total number of models to train\n",
    "                                               max_parallel_jobs = 3, # The number of models to train in parallel\n",
    "                                               hyperparameter_ranges = {\n",
    "                                                    'max_depth': IntegerParameter(3, 12),\n",
    "                                                    'eta'      : ContinuousParameter(0.05, 0.5),\n",
    "                                                    'min_child_weight': IntegerParameter(2, 8),\n",
    "                                                    'subsample': ContinuousParameter(0.5, 0.9),\n",
    "                                                    'gamma': ContinuousParameter(0, 10),\n",
    "                                               })\n"
   ]
  },
  {
   "cell_type": "markdown",
   "metadata": {},
   "source": [
    "### Fit the hyperparameter tuner\n",
    "\n",
    "Now that the hyperparameter tuner object has been constructed, it is time to fit the various models and find the best performing model."
   ]
  },
  {
   "cell_type": "code",
   "execution_count": 25,
   "metadata": {},
   "outputs": [
    {
     "name": "stderr",
     "output_type": "stream",
     "text": [
      "'s3_input' class will be renamed to 'TrainingInput' in SageMaker Python SDK v2.\n",
      "'s3_input' class will be renamed to 'TrainingInput' in SageMaker Python SDK v2.\n"
     ]
    }
   ],
   "source": [
    "s3_input_train = sagemaker.s3_input(s3_data=train_location, content_type='csv')\n",
    "s3_input_validation = sagemaker.s3_input(s3_data=val_location, content_type='csv')"
   ]
  },
  {
   "cell_type": "code",
   "execution_count": 26,
   "metadata": {},
   "outputs": [],
   "source": [
    "xgb_hyperparameter_tuner.fit({'train': s3_input_train, 'validation': s3_input_validation})"
   ]
  },
  {
   "cell_type": "markdown",
   "metadata": {},
   "source": [
    "Remember that the tuning job is constructed and run in the background so if we want to see the progress of our training job we need to call the `wait()` method."
   ]
  },
  {
   "cell_type": "code",
   "execution_count": 27,
   "metadata": {},
   "outputs": [
    {
     "name": "stdout",
     "output_type": "stream",
     "text": [
      ".....................................................................................................................................................................................................................................................................................................................................................................................................................................................................................................................................................................................................................................................................................................................................................................................................................................................................................................................................................................................................................................................!\n"
     ]
    }
   ],
   "source": [
    "xgb_hyperparameter_tuner.wait()"
   ]
  },
  {
   "cell_type": "markdown",
   "metadata": {},
   "source": [
    "### (TODO) Testing the model\n",
    "\n",
    "Now that we've run our hyperparameter tuning job, it's time to see how well the best performing model actually performs. To do this we will use SageMaker's Batch Transform functionality. Batch Transform is a convenient way to perform inference on a large dataset in a way that is not realtime. That is, we don't necessarily need to use our model's results immediately and instead we can peform inference on a large number of samples. An example of this in industry might be peforming an end of month report. This method of inference can also be useful to us as it means to can perform inference on our entire test set. \n",
    "\n",
    "Remember that in order to create a transformer object to perform the batch transform job, we need a trained estimator object. We can do that using the `attach()` method, creating an estimator object which is attached to the best trained job."
   ]
  },
  {
   "cell_type": "code",
   "execution_count": 28,
   "metadata": {},
   "outputs": [
    {
     "name": "stderr",
     "output_type": "stream",
     "text": [
      "Parameter image_name will be renamed to image_uri in SageMaker Python SDK v2.\n"
     ]
    },
    {
     "name": "stdout",
     "output_type": "stream",
     "text": [
      "2021-06-09 13:49:27 Starting - Preparing the instances for training\n",
      "2021-06-09 13:49:27 Downloading - Downloading input data\n",
      "2021-06-09 13:49:27 Training - Training image download completed. Training in progress.\n",
      "2021-06-09 13:49:27 Uploading - Uploading generated training model\n",
      "2021-06-09 13:49:27 Completed - Training job completed\u001b[34mINFO:sagemaker-containers:Imported framework sagemaker_xgboost_container.training\u001b[0m\n",
      "\u001b[34mINFO:sagemaker-containers:Failed to parse hyperparameter _tuning_objective_metric value validation:rmse to Json.\u001b[0m\n",
      "\u001b[34mReturning the value itself\u001b[0m\n",
      "\u001b[34mINFO:sagemaker-containers:Failed to parse hyperparameter objective value reg:linear to Json.\u001b[0m\n",
      "\u001b[34mReturning the value itself\u001b[0m\n",
      "\u001b[34mINFO:sagemaker-containers:No GPUs detected (normal if no gpus installed)\u001b[0m\n",
      "\u001b[34mINFO:sagemaker_xgboost_container.training:Running XGBoost Sagemaker in algorithm mode\u001b[0m\n",
      "\u001b[34mINFO:root:Determined delimiter of CSV input is ','\u001b[0m\n",
      "\u001b[34mINFO:root:Determined delimiter of CSV input is ','\u001b[0m\n",
      "\u001b[34mINFO:root:Determined delimiter of CSV input is ','\u001b[0m\n",
      "\u001b[34m[13:42:00] 15000x5000 matrix with 75000000 entries loaded from /opt/ml/input/data/train?format=csv&label_column=0&delimiter=,\u001b[0m\n",
      "\u001b[34mINFO:root:Determined delimiter of CSV input is ','\u001b[0m\n",
      "\u001b[34m[13:42:03] 10000x5000 matrix with 50000000 entries loaded from /opt/ml/input/data/validation?format=csv&label_column=0&delimiter=,\u001b[0m\n",
      "\u001b[34mINFO:root:Single node training.\u001b[0m\n",
      "\u001b[34mINFO:root:Setting up HPO optimized metric to be : rmse\u001b[0m\n",
      "\u001b[34mINFO:root:Train matrix has 15000 rows\u001b[0m\n",
      "\u001b[34mINFO:root:Validation matrix has 10000 rows\u001b[0m\n",
      "\u001b[34m[13:42:03] WARNING: /workspace/src/objective/regression_obj.cu:167: reg:linear is now deprecated in favor of reg:squarederror.\u001b[0m\n",
      "\u001b[34m[0]#011train-rmse:0.47784#011validation-rmse:0.48011\u001b[0m\n",
      "\u001b[34m[1]#011train-rmse:0.45997#011validation-rmse:0.46459\u001b[0m\n",
      "\u001b[34m[2]#011train-rmse:0.44536#011validation-rmse:0.45302\u001b[0m\n",
      "\u001b[34m[3]#011train-rmse:0.43338#011validation-rmse:0.44303\u001b[0m\n",
      "\u001b[34m[4]#011train-rmse:0.42300#011validation-rmse:0.43472\u001b[0m\n",
      "\u001b[34m[5]#011train-rmse:0.41370#011validation-rmse:0.42773\u001b[0m\n",
      "\u001b[34m[6]#011train-rmse:0.40641#011validation-rmse:0.42196\u001b[0m\n",
      "\u001b[34m[7]#011train-rmse:0.39768#011validation-rmse:0.41599\u001b[0m\n",
      "\u001b[34m[8]#011train-rmse:0.39155#011validation-rmse:0.41168\u001b[0m\n",
      "\u001b[34m[9]#011train-rmse:0.38505#011validation-rmse:0.40749\u001b[0m\n",
      "\u001b[34m[10]#011train-rmse:0.37946#011validation-rmse:0.40370\u001b[0m\n",
      "\u001b[34m[11]#011train-rmse:0.37398#011validation-rmse:0.40022\u001b[0m\n",
      "\u001b[34m[12]#011train-rmse:0.36918#011validation-rmse:0.39698\u001b[0m\n",
      "\u001b[34m[13]#011train-rmse:0.36444#011validation-rmse:0.39358\u001b[0m\n",
      "\u001b[34m[14]#011train-rmse:0.36016#011validation-rmse:0.39118\u001b[0m\n",
      "\u001b[34m[15]#011train-rmse:0.35621#011validation-rmse:0.38874\u001b[0m\n",
      "\u001b[34m[16]#011train-rmse:0.35266#011validation-rmse:0.38652\u001b[0m\n",
      "\u001b[34m[17]#011train-rmse:0.34882#011validation-rmse:0.38409\u001b[0m\n",
      "\u001b[34m[18]#011train-rmse:0.34523#011validation-rmse:0.38222\u001b[0m\n",
      "\u001b[34m[19]#011train-rmse:0.34209#011validation-rmse:0.38019\u001b[0m\n",
      "\u001b[34m[20]#011train-rmse:0.33907#011validation-rmse:0.37839\u001b[0m\n",
      "\u001b[34m[21]#011train-rmse:0.33618#011validation-rmse:0.37688\u001b[0m\n",
      "\u001b[34m[22]#011train-rmse:0.33376#011validation-rmse:0.37552\u001b[0m\n",
      "\u001b[34m[23]#011train-rmse:0.33127#011validation-rmse:0.37394\u001b[0m\n",
      "\u001b[34m[24]#011train-rmse:0.32885#011validation-rmse:0.37275\u001b[0m\n",
      "\u001b[34m[25]#011train-rmse:0.32679#011validation-rmse:0.37169\u001b[0m\n",
      "\u001b[34m[26]#011train-rmse:0.32460#011validation-rmse:0.37061\u001b[0m\n",
      "\u001b[34m[27]#011train-rmse:0.32211#011validation-rmse:0.36928\u001b[0m\n",
      "\u001b[34m[28]#011train-rmse:0.32011#011validation-rmse:0.36834\u001b[0m\n",
      "\u001b[34m[29]#011train-rmse:0.31855#011validation-rmse:0.36748\u001b[0m\n",
      "\u001b[34m[30]#011train-rmse:0.31645#011validation-rmse:0.36636\u001b[0m\n",
      "\u001b[34m[31]#011train-rmse:0.31500#011validation-rmse:0.36538\u001b[0m\n",
      "\u001b[34m[32]#011train-rmse:0.31321#011validation-rmse:0.36443\u001b[0m\n",
      "\u001b[34m[33]#011train-rmse:0.31131#011validation-rmse:0.36331\u001b[0m\n",
      "\u001b[34m[34]#011train-rmse:0.31038#011validation-rmse:0.36276\u001b[0m\n",
      "\u001b[34m[35]#011train-rmse:0.30919#011validation-rmse:0.36209\u001b[0m\n",
      "\u001b[34m[36]#011train-rmse:0.30780#011validation-rmse:0.36154\u001b[0m\n",
      "\u001b[34m[37]#011train-rmse:0.30618#011validation-rmse:0.36094\u001b[0m\n",
      "\u001b[34m[38]#011train-rmse:0.30512#011validation-rmse:0.36045\u001b[0m\n",
      "\u001b[34m[39]#011train-rmse:0.30373#011validation-rmse:0.35974\u001b[0m\n",
      "\u001b[34m[40]#011train-rmse:0.30253#011validation-rmse:0.35918\u001b[0m\n",
      "\u001b[34m[41]#011train-rmse:0.30127#011validation-rmse:0.35842\u001b[0m\n",
      "\u001b[34m[42]#011train-rmse:0.29998#011validation-rmse:0.35785\u001b[0m\n",
      "\u001b[34m[43]#011train-rmse:0.29917#011validation-rmse:0.35729\u001b[0m\n",
      "\u001b[34m[44]#011train-rmse:0.29810#011validation-rmse:0.35675\u001b[0m\n",
      "\u001b[34m[45]#011train-rmse:0.29751#011validation-rmse:0.35628\u001b[0m\n",
      "\u001b[34m[46]#011train-rmse:0.29625#011validation-rmse:0.35576\u001b[0m\n",
      "\u001b[34m[47]#011train-rmse:0.29560#011validation-rmse:0.35547\u001b[0m\n",
      "\u001b[34m[48]#011train-rmse:0.29492#011validation-rmse:0.35514\u001b[0m\n",
      "\u001b[34m[49]#011train-rmse:0.29409#011validation-rmse:0.35476\u001b[0m\n",
      "\u001b[34m[50]#011train-rmse:0.29329#011validation-rmse:0.35428\u001b[0m\n",
      "\u001b[34m[51]#011train-rmse:0.29235#011validation-rmse:0.35380\u001b[0m\n",
      "\u001b[34m[52]#011train-rmse:0.29167#011validation-rmse:0.35341\u001b[0m\n",
      "\u001b[34m[53]#011train-rmse:0.29060#011validation-rmse:0.35316\u001b[0m\n",
      "\u001b[34m[54]#011train-rmse:0.28983#011validation-rmse:0.35279\u001b[0m\n",
      "\u001b[34m[55]#011train-rmse:0.28901#011validation-rmse:0.35247\u001b[0m\n",
      "\u001b[34m[56]#011train-rmse:0.28833#011validation-rmse:0.35231\u001b[0m\n",
      "\u001b[34m[57]#011train-rmse:0.28772#011validation-rmse:0.35179\u001b[0m\n",
      "\u001b[34m[58]#011train-rmse:0.28664#011validation-rmse:0.35149\u001b[0m\n",
      "\u001b[34m[59]#011train-rmse:0.28591#011validation-rmse:0.35137\u001b[0m\n",
      "\u001b[34m[60]#011train-rmse:0.28533#011validation-rmse:0.35111\u001b[0m\n",
      "\u001b[34m[61]#011train-rmse:0.28459#011validation-rmse:0.35081\u001b[0m\n",
      "\u001b[34m[62]#011train-rmse:0.28405#011validation-rmse:0.35054\u001b[0m\n",
      "\u001b[34m[63]#011train-rmse:0.28343#011validation-rmse:0.35026\u001b[0m\n",
      "\u001b[34m[64]#011train-rmse:0.28299#011validation-rmse:0.34998\u001b[0m\n",
      "\u001b[34m[65]#011train-rmse:0.28234#011validation-rmse:0.34971\u001b[0m\n",
      "\u001b[34m[66]#011train-rmse:0.28195#011validation-rmse:0.34957\u001b[0m\n",
      "\u001b[34m[67]#011train-rmse:0.28149#011validation-rmse:0.34938\u001b[0m\n",
      "\u001b[34m[68]#011train-rmse:0.28068#011validation-rmse:0.34926\u001b[0m\n",
      "\u001b[34m[69]#011train-rmse:0.28009#011validation-rmse:0.34899\u001b[0m\n",
      "\u001b[34m[70]#011train-rmse:0.27969#011validation-rmse:0.34868\u001b[0m\n",
      "\u001b[34m[71]#011train-rmse:0.27891#011validation-rmse:0.34840\u001b[0m\n",
      "\u001b[34m[72]#011train-rmse:0.27832#011validation-rmse:0.34830\u001b[0m\n",
      "\u001b[34m[73]#011train-rmse:0.27792#011validation-rmse:0.34798\u001b[0m\n",
      "\u001b[34m[74]#011train-rmse:0.27736#011validation-rmse:0.34782\u001b[0m\n",
      "\u001b[34m[75]#011train-rmse:0.27712#011validation-rmse:0.34770\u001b[0m\n",
      "\u001b[34m[76]#011train-rmse:0.27642#011validation-rmse:0.34738\u001b[0m\n",
      "\u001b[34m[77]#011train-rmse:0.27613#011validation-rmse:0.34720\u001b[0m\n",
      "\u001b[34m[78]#011train-rmse:0.27583#011validation-rmse:0.34700\u001b[0m\n",
      "\u001b[34m[79]#011train-rmse:0.27537#011validation-rmse:0.34688\u001b[0m\n",
      "\u001b[34m[80]#011train-rmse:0.27474#011validation-rmse:0.34663\u001b[0m\n",
      "\u001b[34m[81]#011train-rmse:0.27446#011validation-rmse:0.34668\u001b[0m\n",
      "\u001b[34m[82]#011train-rmse:0.27416#011validation-rmse:0.34657\u001b[0m\n",
      "\u001b[34m[83]#011train-rmse:0.27385#011validation-rmse:0.34643\u001b[0m\n",
      "\u001b[34m[84]#011train-rmse:0.27332#011validation-rmse:0.34627\u001b[0m\n",
      "\u001b[34m[85]#011train-rmse:0.27298#011validation-rmse:0.34613\u001b[0m\n",
      "\u001b[34m[86]#011train-rmse:0.27266#011validation-rmse:0.34600\u001b[0m\n",
      "\u001b[34m[87]#011train-rmse:0.27214#011validation-rmse:0.34589\u001b[0m\n",
      "\u001b[34m[88]#011train-rmse:0.27181#011validation-rmse:0.34571\u001b[0m\n",
      "\u001b[34m[89]#011train-rmse:0.27129#011validation-rmse:0.34561\u001b[0m\n",
      "\u001b[34m[90]#011train-rmse:0.27104#011validation-rmse:0.34555\u001b[0m\n",
      "\u001b[34m[91]#011train-rmse:0.27062#011validation-rmse:0.34540\u001b[0m\n",
      "\u001b[34m[92]#011train-rmse:0.27028#011validation-rmse:0.34522\u001b[0m\n",
      "\u001b[34m[93]#011train-rmse:0.26989#011validation-rmse:0.34508\u001b[0m\n",
      "\u001b[34m[94]#011train-rmse:0.26950#011validation-rmse:0.34494\u001b[0m\n",
      "\u001b[34m[95]#011train-rmse:0.26916#011validation-rmse:0.34486\u001b[0m\n",
      "\u001b[34m[96]#011train-rmse:0.26890#011validation-rmse:0.34475\u001b[0m\n",
      "\u001b[34m[97]#011train-rmse:0.26872#011validation-rmse:0.34460\u001b[0m\n",
      "\u001b[34m[98]#011train-rmse:0.26846#011validation-rmse:0.34452\u001b[0m\n",
      "\u001b[34m[99]#011train-rmse:0.26818#011validation-rmse:0.34435\u001b[0m\n",
      "\u001b[34m[100]#011train-rmse:0.26799#011validation-rmse:0.34425\u001b[0m\n",
      "\u001b[34m[101]#011train-rmse:0.26769#011validation-rmse:0.34412\u001b[0m\n",
      "\u001b[34m[102]#011train-rmse:0.26730#011validation-rmse:0.34401\u001b[0m\n",
      "\u001b[34m[103]#011train-rmse:0.26687#011validation-rmse:0.34382\u001b[0m\n",
      "\u001b[34m[104]#011train-rmse:0.26645#011validation-rmse:0.34363\u001b[0m\n",
      "\u001b[34m[105]#011train-rmse:0.26623#011validation-rmse:0.34346\u001b[0m\n",
      "\u001b[34m[106]#011train-rmse:0.26568#011validation-rmse:0.34332\u001b[0m\n",
      "\u001b[34m[107]#011train-rmse:0.26534#011validation-rmse:0.34322\u001b[0m\n",
      "\u001b[34m[108]#011train-rmse:0.26511#011validation-rmse:0.34313\u001b[0m\n",
      "\u001b[34m[109]#011train-rmse:0.26492#011validation-rmse:0.34298\u001b[0m\n",
      "\u001b[34m[110]#011train-rmse:0.26469#011validation-rmse:0.34295\u001b[0m\n",
      "\u001b[34m[111]#011train-rmse:0.26439#011validation-rmse:0.34289\u001b[0m\n",
      "\u001b[34m[112]#011train-rmse:0.26420#011validation-rmse:0.34278\u001b[0m\n",
      "\u001b[34m[113]#011train-rmse:0.26398#011validation-rmse:0.34270\u001b[0m\n",
      "\u001b[34m[114]#011train-rmse:0.26367#011validation-rmse:0.34258\u001b[0m\n",
      "\u001b[34m[115]#011train-rmse:0.26328#011validation-rmse:0.34251\u001b[0m\n",
      "\u001b[34m[116]#011train-rmse:0.26305#011validation-rmse:0.34240\u001b[0m\n",
      "\u001b[34m[117]#011train-rmse:0.26287#011validation-rmse:0.34239\u001b[0m\n",
      "\u001b[34m[118]#011train-rmse:0.26254#011validation-rmse:0.34225\u001b[0m\n",
      "\u001b[34m[119]#011train-rmse:0.26235#011validation-rmse:0.34213\u001b[0m\n",
      "\u001b[34m[120]#011train-rmse:0.26215#011validation-rmse:0.34206\u001b[0m\n",
      "\u001b[34m[121]#011train-rmse:0.26194#011validation-rmse:0.34195\u001b[0m\n",
      "\u001b[34m[122]#011train-rmse:0.26175#011validation-rmse:0.34183\u001b[0m\n",
      "\u001b[34m[123]#011train-rmse:0.26158#011validation-rmse:0.34171\u001b[0m\n",
      "\u001b[34m[124]#011train-rmse:0.26130#011validation-rmse:0.34164\u001b[0m\n",
      "\u001b[34m[125]#011train-rmse:0.26111#011validation-rmse:0.34155\u001b[0m\n",
      "\u001b[34m[126]#011train-rmse:0.26098#011validation-rmse:0.34144\u001b[0m\n",
      "\u001b[34m[127]#011train-rmse:0.26087#011validation-rmse:0.34142\u001b[0m\n",
      "\u001b[34m[128]#011train-rmse:0.26062#011validation-rmse:0.34132\u001b[0m\n",
      "\u001b[34m[129]#011train-rmse:0.26037#011validation-rmse:0.34122\u001b[0m\n",
      "\u001b[34m[130]#011train-rmse:0.26019#011validation-rmse:0.34109\u001b[0m\n",
      "\u001b[34m[131]#011train-rmse:0.25995#011validation-rmse:0.34105\u001b[0m\n",
      "\u001b[34m[132]#011train-rmse:0.25977#011validation-rmse:0.34104\u001b[0m\n",
      "\u001b[34m[133]#011train-rmse:0.25954#011validation-rmse:0.34095\u001b[0m\n",
      "\u001b[34m[134]#011train-rmse:0.25933#011validation-rmse:0.34087\u001b[0m\n",
      "\u001b[34m[135]#011train-rmse:0.25931#011validation-rmse:0.34086\u001b[0m\n",
      "\u001b[34m[136]#011train-rmse:0.25921#011validation-rmse:0.34082\u001b[0m\n",
      "\u001b[34m[137]#011train-rmse:0.25915#011validation-rmse:0.34077\u001b[0m\n",
      "\u001b[34m[138]#011train-rmse:0.25894#011validation-rmse:0.34075\u001b[0m\n",
      "\u001b[34m[139]#011train-rmse:0.25893#011validation-rmse:0.34074\u001b[0m\n",
      "\u001b[34m[140]#011train-rmse:0.25893#011validation-rmse:0.34075\u001b[0m\n",
      "\u001b[34m[141]#011train-rmse:0.25891#011validation-rmse:0.34074\u001b[0m\n",
      "\u001b[34m[142]#011train-rmse:0.25869#011validation-rmse:0.34070\u001b[0m\n",
      "\u001b[34m[143]#011train-rmse:0.25864#011validation-rmse:0.34069\u001b[0m\n",
      "\u001b[34m[144]#011train-rmse:0.25864#011validation-rmse:0.34070\u001b[0m\n",
      "\u001b[34m[145]#011train-rmse:0.25831#011validation-rmse:0.34062\u001b[0m\n",
      "\u001b[34m[146]#011train-rmse:0.25819#011validation-rmse:0.34061\u001b[0m\n",
      "\u001b[34m[147]#011train-rmse:0.25786#011validation-rmse:0.34057\u001b[0m\n",
      "\u001b[34m[148]#011train-rmse:0.25769#011validation-rmse:0.34056\u001b[0m\n",
      "\u001b[34m[149]#011train-rmse:0.25748#011validation-rmse:0.34050\u001b[0m\n",
      "\u001b[34m[150]#011train-rmse:0.25729#011validation-rmse:0.34042\u001b[0m\n",
      "\u001b[34m[151]#011train-rmse:0.25721#011validation-rmse:0.34044\u001b[0m\n",
      "\u001b[34m[152]#011train-rmse:0.25721#011validation-rmse:0.34044\u001b[0m\n",
      "\u001b[34m[153]#011train-rmse:0.25721#011validation-rmse:0.34044\u001b[0m\n",
      "\u001b[34m[154]#011train-rmse:0.25721#011validation-rmse:0.34044\u001b[0m\n",
      "\u001b[34m[155]#011train-rmse:0.25701#011validation-rmse:0.34034\u001b[0m\n",
      "\u001b[34m[156]#011train-rmse:0.25685#011validation-rmse:0.34036\u001b[0m\n",
      "\u001b[34m[157]#011train-rmse:0.25683#011validation-rmse:0.34038\u001b[0m\n",
      "\u001b[34m[158]#011train-rmse:0.25674#011validation-rmse:0.34034\u001b[0m\n",
      "\u001b[34m[159]#011train-rmse:0.25664#011validation-rmse:0.34033\u001b[0m\n",
      "\u001b[34m[160]#011train-rmse:0.25650#011validation-rmse:0.34026\u001b[0m\n",
      "\u001b[34m[161]#011train-rmse:0.25639#011validation-rmse:0.34026\u001b[0m\n",
      "\u001b[34m[162]#011train-rmse:0.25631#011validation-rmse:0.34029\u001b[0m\n",
      "\u001b[34m[163]#011train-rmse:0.25629#011validation-rmse:0.34028\u001b[0m\n",
      "\u001b[34m[164]#011train-rmse:0.25611#011validation-rmse:0.34015\u001b[0m\n",
      "\u001b[34m[165]#011train-rmse:0.25600#011validation-rmse:0.34011\u001b[0m\n",
      "\u001b[34m[166]#011train-rmse:0.25583#011validation-rmse:0.34015\u001b[0m\n",
      "\u001b[34m[167]#011train-rmse:0.25562#011validation-rmse:0.34011\u001b[0m\n",
      "\u001b[34m[168]#011train-rmse:0.25552#011validation-rmse:0.34007\u001b[0m\n",
      "\u001b[34m[169]#011train-rmse:0.25527#011validation-rmse:0.34004\u001b[0m\n",
      "\u001b[34m[170]#011train-rmse:0.25504#011validation-rmse:0.33992\u001b[0m\n",
      "\u001b[34m[171]#011train-rmse:0.25504#011validation-rmse:0.33991\u001b[0m\n",
      "\u001b[34m[172]#011train-rmse:0.25504#011validation-rmse:0.33991\u001b[0m\n",
      "\u001b[34m[173]#011train-rmse:0.25504#011validation-rmse:0.33991\u001b[0m\n",
      "\u001b[34m[174]#011train-rmse:0.25485#011validation-rmse:0.33982\u001b[0m\n",
      "\u001b[34m[175]#011train-rmse:0.25463#011validation-rmse:0.33979\u001b[0m\n",
      "\u001b[34m[176]#011train-rmse:0.25452#011validation-rmse:0.33979\u001b[0m\n",
      "\u001b[34m[177]#011train-rmse:0.25452#011validation-rmse:0.33979\u001b[0m\n",
      "\u001b[34m[178]#011train-rmse:0.25452#011validation-rmse:0.33979\u001b[0m\n",
      "\u001b[34m[179]#011train-rmse:0.25450#011validation-rmse:0.33982\u001b[0m\n",
      "\u001b[34m[180]#011train-rmse:0.25426#011validation-rmse:0.33973\u001b[0m\n",
      "\u001b[34m[181]#011train-rmse:0.25423#011validation-rmse:0.33974\u001b[0m\n",
      "\u001b[34m[182]#011train-rmse:0.25412#011validation-rmse:0.33974\u001b[0m\n",
      "\u001b[34m[183]#011train-rmse:0.25410#011validation-rmse:0.33972\u001b[0m\n",
      "\u001b[34m[184]#011train-rmse:0.25399#011validation-rmse:0.33974\u001b[0m\n",
      "\u001b[34m[185]#011train-rmse:0.25382#011validation-rmse:0.33970\u001b[0m\n",
      "\u001b[34m[186]#011train-rmse:0.25379#011validation-rmse:0.33972\u001b[0m\n",
      "\u001b[34m[187]#011train-rmse:0.25365#011validation-rmse:0.33971\u001b[0m\n",
      "\u001b[34m[188]#011train-rmse:0.25345#011validation-rmse:0.33959\u001b[0m\n",
      "\u001b[34m[189]#011train-rmse:0.25344#011validation-rmse:0.33959\u001b[0m\n",
      "\u001b[34m[190]#011train-rmse:0.25338#011validation-rmse:0.33956\u001b[0m\n",
      "\u001b[34m[191]#011train-rmse:0.25327#011validation-rmse:0.33958\u001b[0m\n",
      "\u001b[34m[192]#011train-rmse:0.25327#011validation-rmse:0.33958\u001b[0m\n",
      "\u001b[34m[193]#011train-rmse:0.25327#011validation-rmse:0.33958\u001b[0m\n",
      "\u001b[34m[194]#011train-rmse:0.25312#011validation-rmse:0.33952\u001b[0m\n",
      "\u001b[34m[195]#011train-rmse:0.25312#011validation-rmse:0.33952\u001b[0m\n",
      "\u001b[34m[196]#011train-rmse:0.25297#011validation-rmse:0.33950\u001b[0m\n",
      "\u001b[34m[197]#011train-rmse:0.25289#011validation-rmse:0.33943\u001b[0m\n",
      "\u001b[34m[198]#011train-rmse:0.25271#011validation-rmse:0.33936\u001b[0m\n",
      "\u001b[34m[199]#011train-rmse:0.25271#011validation-rmse:0.33936\u001b[0m\n",
      "Training seconds: 520\n",
      "Billable seconds: 520\n"
     ]
    }
   ],
   "source": [
    "# TODO: Create a new estimator object attached to the best training job found during hyperparameter tuning\n",
    "\n",
    "xgb_attached = sagemaker.estimator.Estimator.attach(xgb_hyperparameter_tuner.best_training_job())\n"
   ]
  },
  {
   "cell_type": "markdown",
   "metadata": {},
   "source": [
    "Now that we have an estimator object attached to the correct training job, we can proceed as we normally would and create a transformer object."
   ]
  },
  {
   "cell_type": "code",
   "execution_count": 29,
   "metadata": {},
   "outputs": [
    {
     "name": "stderr",
     "output_type": "stream",
     "text": [
      "Parameter image will be renamed to image_uri in SageMaker Python SDK v2.\n"
     ]
    }
   ],
   "source": [
    "# TODO: Create a transformer object from the attached estimator. Using an instance count of 1 and an instance type of ml.m4.xlarge\n",
    "#       should be more than enough.\n",
    "\n",
    "xgb_transformer = xgb_attached.transformer(instance_count = 1, instance_type = 'ml.m4.xlarge')\n"
   ]
  },
  {
   "cell_type": "markdown",
   "metadata": {},
   "source": [
    "Next we actually perform the transform job. When doing so we need to make sure to specify the type of data we are sending so that it is serialized correctly in the background. In our case we are providing our model with csv data so we specify `text/csv`. Also, if the test data that we have provided is too large to process all at once then we need to specify how the data file should be split up. Since each line is a single entry in our data set we tell SageMaker that it can split the input on each line."
   ]
  },
  {
   "cell_type": "code",
   "execution_count": 30,
   "metadata": {},
   "outputs": [],
   "source": [
    "# TODO: Start the transform job. Make sure to specify the content type and the split type of the test data.\n",
    "xgb_transformer.transform(test_location, content_type='text/csv', split_type='Line')"
   ]
  },
  {
   "cell_type": "markdown",
   "metadata": {},
   "source": [
    "Currently the transform job is running but it is doing so in the background. Since we wish to wait until the transform job is done and we would like a bit of feedback we can run the `wait()` method."
   ]
  },
  {
   "cell_type": "code",
   "execution_count": null,
   "metadata": {},
   "outputs": [
    {
     "name": "stdout",
     "output_type": "stream",
     "text": [
      "..........................."
     ]
    }
   ],
   "source": [
    "xgb_transformer.wait()"
   ]
  },
  {
   "cell_type": "markdown",
   "metadata": {},
   "source": [
    "Now the transform job has executed and the result, the estimated sentiment of each review, has been saved on S3. Since we would rather work on this file locally we can perform a bit of notebook magic to copy the file to the `data_dir`."
   ]
  },
  {
   "cell_type": "code",
   "execution_count": null,
   "metadata": {},
   "outputs": [],
   "source": [
    "!aws s3 cp --recursive $xgb_transformer.output_path $data_dir"
   ]
  },
  {
   "cell_type": "markdown",
   "metadata": {},
   "source": [
    "The last step is now to read in the output from our model, convert the output to something a little more usable, in this case we want the sentiment to be either `1` (positive) or `0` (negative), and then compare to the ground truth labels."
   ]
  },
  {
   "cell_type": "code",
   "execution_count": null,
   "metadata": {},
   "outputs": [],
   "source": [
    "predictions = pd.read_csv(os.path.join(data_dir, 'test.csv.out'), header=None)\n",
    "predictions = [round(num) for num in predictions.squeeze().values]"
   ]
  },
  {
   "cell_type": "code",
   "execution_count": null,
   "metadata": {},
   "outputs": [],
   "source": [
    "from sklearn.metrics import accuracy_score\n",
    "accuracy_score(test_y, predictions)"
   ]
  },
  {
   "cell_type": "markdown",
   "metadata": {},
   "source": [
    "## Optional: Clean up\n",
    "\n",
    "The default notebook instance on SageMaker doesn't have a lot of excess disk space available. As you continue to complete and execute notebooks you will eventually fill up this disk space, leading to errors which can be difficult to diagnose. Once you are completely finished using a notebook it is a good idea to remove the files that you created along the way. Of course, you can do this from the terminal or from the notebook hub if you would like. The cell below contains some commands to clean up the created files from within the notebook."
   ]
  },
  {
   "cell_type": "code",
   "execution_count": null,
   "metadata": {},
   "outputs": [],
   "source": [
    "# First we will remove all of the files contained in the data_dir directory\n",
    "!rm $data_dir/*\n",
    "\n",
    "# And then we delete the directory itself\n",
    "!rmdir $data_dir\n",
    "\n",
    "# Similarly we will remove the files in the cache_dir directory and the directory itself\n",
    "!rm $cache_dir/*\n",
    "!rmdir $cache_dir"
   ]
  },
  {
   "cell_type": "code",
   "execution_count": null,
   "metadata": {},
   "outputs": [],
   "source": []
  }
 ],
 "metadata": {
  "kernelspec": {
   "display_name": "conda_python3",
   "language": "python",
   "name": "conda_python3"
  },
  "language_info": {
   "codemirror_mode": {
    "name": "ipython",
    "version": 3
   },
   "file_extension": ".py",
   "mimetype": "text/x-python",
   "name": "python",
   "nbconvert_exporter": "python",
   "pygments_lexer": "ipython3",
   "version": "3.6.13"
  }
 },
 "nbformat": 4,
 "nbformat_minor": 2
}
